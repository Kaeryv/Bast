{
 "cells": [
  {
   "cell_type": "code",
   "execution_count": 1,
   "metadata": {},
   "outputs": [],
   "source": [
    "import sys\n",
    "sys.path.append('..')\n",
    "from bast.tools import incident, compute_currents, nanometers\n",
    "from bast.matrices import matrix_s, multS\n",
    "from bast.lattice import CartesianLattice\n",
    "import numpy as np\n",
    "from math import prod\n",
    "\n",
    "pw=(8, 8)\n",
    "nx, ny = pw[0] // 2, pw[1] // 2\n",
    "a  = nanometers(100)\n",
    "lattice = CartesianLattice(pw, a1=(a, 0.0), a2=(0.0, a), eps_emerg=1.0)\n",
    "N = 150\n",
    "wavelengths = 1 / np.linspace(1./nanometers(2000), 1./nanometers(200), N)\n",
    "theta = 0\n",
    "phi = 0"
   ]
  },
  {
   "cell_type": "code",
   "execution_count": 118,
   "metadata": {},
   "outputs": [
    {
     "name": "stderr",
     "output_type": "stream",
     "text": [
      "100%|████████████████████████████████████████████████████████████████████████████████████████████████████████████████████████████████████████████████████████| 150/150 [00:46<00:00,  3.22it/s]\n"
     ]
    }
   ],
   "source": [
    "from bast.scattering import scattering_matrix,scattering_matrix_npy\n",
    "from tqdm import tqdm\n",
    "\n",
    "spectrum = []\n",
    "scatmats = []\n",
    "truets = []\n",
    "for i, wavelength in enumerate(tqdm(wavelengths)):\n",
    "    U = lattice.U(wavelength, theta_deg=theta, phi_deg=phi)\n",
    "    Ve = lattice.Ve(wavelength, theta_deg=theta, phi_deg=phi)\n",
    "    T_interface = U @ Ve\n",
    "    # S-matrices \n",
    "    S_interface = matrix_s(T_interface)\n",
    "    #S0, bf = scattering_matrix(pw, lattice, \"rectangle\", [0, 0, 0,0], island_eps=13.0, eps_host=3.0, wavelength=wavelength, depth=1.5*a, slicing_pow=2, theta_deg=theta, phi_deg=phi)\n",
    "    #S1, bf = scattering_matrix(pw, lattice, \"rectangle\", [0, 0, 0,0], island_eps=1.0, eps_host=1.0, wavelength=wavelength, depth=0.5*a, slicing_pow=2, theta_deg=theta, phi_deg=phi)\n",
    "    #S0, bf = scattering_matrix(pw, lattice, \"disc\", [0.0*a, 0.0*a,0.3*a], island_eps=1.0, eps_host=9.0, wavelength=wavelength, depth=2*a, slicing_pow=3, theta_deg=theta, phi_deg=phi)\n",
    "    S1b, bf = scattering_matrix(pw, lattice, \"rectangle\", [0, 0, 0,0], island_eps=1.0, eps_host=1.0, wavelength=wavelength, depth=1*a, slicing_pow=2, theta_deg=theta, phi_deg=phi)\n",
    "    S1, bf1 = scattering_matrix(pw, lattice, \"disc\", [0.5*a, 0.5*a, 0.3*a], island_eps=1.0, eps_host=9.0, wavelength=wavelength, depth=2*a, slicing_pow=3, theta_deg=theta, phi_deg=phi)\n",
    "    S = multS(S0, S1b)\n",
    "    S = multS(S, S0)\n",
    "    #np.save(f\"../data/S_drift_{i}.npy\", S)\n",
    "    \n",
    "    S_tot = multS(S, S)\n",
    "    S_tot = multS(S, S)\n",
    "    S_tot = multS(S, S)\n",
    "    S_tot = multS(S_tot, S_tot)\n",
    "    S_tot = multS(S_tot, S_interface)\n",
    "\n",
    "    if True:\n",
    "        # Spectrum\n",
    "        pin = incident(pw)\n",
    "        pout = S_tot @ pin\n",
    "        j1plus, j1minus, j3plus = compute_currents(pin, pout, lattice, wavelength, theta, phi)\n",
    "        R_tot=np.abs(np.sum(j1minus) / np.sum(j1plus))\n",
    "        T_tot=np.abs(np.sum(j3plus) / np.sum(j1plus))\n",
    "\n",
    "        spectrum.append((R_tot,T_tot))\n",
    "    \n",
    "    # Store scattering matrices for later computations\n",
    "    scatmats.append(S.copy())\n",
    "\n",
    "    "
   ]
  },
  {
   "cell_type": "code",
   "execution_count": null,
   "metadata": {},
   "outputs": [],
   "source": []
  },
  {
   "cell_type": "code",
   "execution_count": 119,
   "metadata": {
    "tags": []
   },
   "outputs": [
    {
     "data": {
      "text/plain": [
       "<matplotlib.legend.Legend at 0x7ff814361360>"
      ]
     },
     "execution_count": 119,
     "metadata": {},
     "output_type": "execute_result"
    },
    {
     "data": {
      "image/png": "[encoded data removed]",
      "text/plain": [
       "<Figure size 864x576 with 1 Axes>"
      ]
     },
     "metadata": {
      "needs_background": "light"
     },
     "output_type": "display_data"
    }
   ],
   "source": [
    "import matplotlib.pyplot as plt\n",
    "from bast.tools import c\n",
    "fig, ax = plt.subplots(figsize=(12,8))\n",
    "ax.plot(c / wavelengths/1e12, spectrum, label=[\"R\", \"T\"])\n",
    "ax.set_xlabel(\"c / Wavelength [Hz]\")\n",
    "ax.set_ylabel(\"R/T\")\n",
    "#plt.axis([0, 1, 0, 1.2])\n",
    "plt.legend()"
   ]
  },
  {
   "cell_type": "code",
   "execution_count": 120,
   "metadata": {},
   "outputs": [
    {
     "name": "stderr",
     "output_type": "stream",
     "text": [
      "  0%|                                                                                                                                                                  | 0/150 [00:00<?, ?it/s]/home/kaeryv/prj/minerva/env/lib/python3.10/site-packages/numpy/linalg/linalg.py:2146: RuntimeWarning: overflow encountered in det\n",
      "  r = _umath_linalg.det(a, signature=signature)\n",
      "/home/kaeryv/prj/bast/notebooks/../bast/eigentricks.py:28: RuntimeWarning: invalid value encountered in cdouble_scalars\n",
      "  return np.linalg.det(S[p,p] + S[p,m] @ np.linalg.inv(S[m,m]) @ S[m,p]) * np.linalg.det(S[m,m])\n",
      " 99%|██████████████████████████████████████████████████████████████████████████████████████████████████████████████████████████████████████████████████████▉ | 149/150 [00:41<00:00,  3.63it/s]\n"
     ]
    }
   ],
   "source": [
    "from tqdm import tqdm\n",
    "from bast.eigentricks import scattering_eigenvalues, on_shell\n",
    "eigenspace = {  wavelength: scattering_eigenvalues(S, dos=True)  for wavelength, S in zip(wavelengths, tqdm(scatmats)) }\n",
    "eigenspace = dict(filter(lambda x: x[1] is not None, eigenspace.items()))\n"
   ]
  },
  {
   "cell_type": "code",
   "execution_count": 115,
   "metadata": {},
   "outputs": [],
   "source": [
    "\n",
    "for i, (w, v, dos) in enumerate(eigenspace.values()):\n",
    "    is_on_shell = on_shell(w, tol=1e-3)\n",
    "    w[np.logical_not(is_on_shell)] = np.nan\n",
    "    v[:, np.logical_not(is_on_shell)] = np.nan\n"
   ]
  },
  {
   "cell_type": "code",
   "execution_count": 116,
   "metadata": {},
   "outputs": [
    {
     "data": {
      "image/png": "[encoded data removed]",
      "text/plain": [
       "<Figure size 864x576 with 3 Axes>"
      ]
     },
     "metadata": {
      "needs_background": "light"
     },
     "output_type": "display_data"
    }
   ],
   "source": [
    "import matplotlib.pyplot as plt\n",
    "from scipy.constants import c\n",
    "fig, axs = plt.subplots(1,3, figsize=(12,8), sharey=True)\n",
    "eig_w = np.asarray([ w for w, v, dos in eigenspace.values() ])\n",
    "eig_wl = np.asarray([ wl*np.ones(len(w)) for wl, (w, v, dos) in eigenspace.items() ])\n",
    "eig_dos = np.asarray([ dos for wl, (w, v, dos) in eigenspace.items() ])\n",
    "eig_v = np.asarray([ v for wl, (w, v, dos) in eigenspace.items() ])\n",
    "axs[0].scatter(np.angle(eig_w) / np.pi / 2, c / eig_wl / 1e12, s=2)\n",
    "#axs[0].scatter(np.angle(eig_w[eig_w.imag < 0]) / np.pi / 2, c / eig_wl[eig_w.imag<0], s=25, c='r', alpha=0.2)\n",
    "axs[2].plot(np.abs(np.diff(np.log(eig_dos))/2j/np.pi), c / wavelengths[:-1]/ 1e12)\n",
    "axs[2].set_title(\"Density of states\")\n",
    "axs[1].set_title(\"Spectrums\")\n",
    "axs[0].set_title(\"Band Diagram\")\n",
    "axs[1].set_xlim(0, 1)\n",
    "#axs[0].set_ylim(0.0, 1e-2)\n",
    "axs[1].plot(np.asarray(spectrum)[:,0], c / wavelengths/ 1e12)\n",
    "axs[1].plot(np.asarray(spectrum)[:,1], c / wavelengths/ 1e12)\n",
    "#axs[1].set_ylim(0.0, 1.0)\n",
    "axs[1].set_xlabel(\"R/T\")\n",
    "axs[0].set_xlabel(\"a kz/2/pi\")\n",
    "axs[0].set_ylabel(\"a/wl\")\n",
    "#heur = np.loadtxt(\"../data/values.txt\").reshape(100, 5)\n",
    "#for i in range(5):\n",
    "#    axs[0].plot(heur[:, i]/2/np.pi, a / wavelengths, 'r.');\n",
    "plt.savefig(\"Band-Diagram.png\")"
   ]
  },
  {
   "cell_type": "code",
   "execution_count": 98,
   "metadata": {},
   "outputs": [
    {
     "ename": "NameError",
     "evalue": "name 'the_vec' is not defined",
     "output_type": "error",
     "traceback": [
      "\u001b[0;31m---------------------------------------------------------------------------\u001b[0m",
      "\u001b[0;31mNameError\u001b[0m                                 Traceback (most recent call last)",
      "\u001b[0;32m/tmp/ipykernel_1340/1385288546.py\u001b[0m in \u001b[0;36m<module>\u001b[0;34m\u001b[0m\n\u001b[1;32m      6\u001b[0m \u001b[0;31m#P = eig_v[wl][:, mask]\u001b[0m\u001b[0;34m\u001b[0m\u001b[0;34m\u001b[0m\u001b[0m\n\u001b[1;32m      7\u001b[0m \u001b[0;31m#PP = P\u001b[0m\u001b[0;34m\u001b[0m\u001b[0;34m\u001b[0m\u001b[0m\n\u001b[0;32m----> 8\u001b[0;31m \u001b[0mPP\u001b[0m \u001b[0;34m=\u001b[0m \u001b[0mthe_vec\u001b[0m\u001b[0;34m\u001b[0m\u001b[0;34m\u001b[0m\u001b[0m\n\u001b[0m\u001b[1;32m      9\u001b[0m \u001b[0mprint\u001b[0m\u001b[0;34m(\u001b[0m\u001b[0mPP\u001b[0m\u001b[0;34m.\u001b[0m\u001b[0mshape\u001b[0m\u001b[0;34m,\u001b[0m \u001b[0mVi\u001b[0m\u001b[0;34m.\u001b[0m\u001b[0mshape\u001b[0m\u001b[0;34m)\u001b[0m\u001b[0;34m\u001b[0m\u001b[0;34m\u001b[0m\u001b[0m\n\u001b[1;32m     10\u001b[0m \u001b[0mresolution\u001b[0m \u001b[0;34m=\u001b[0m\u001b[0;34m(\u001b[0m\u001b[0;36m300\u001b[0m\u001b[0;34m,\u001b[0m\u001b[0;36m300\u001b[0m\u001b[0;34m)\u001b[0m\u001b[0;34m\u001b[0m\u001b[0;34m\u001b[0m\u001b[0m\n",
      "\u001b[0;31mNameError\u001b[0m: name 'the_vec' is not defined"
     ]
    }
   ],
   "source": [
    "wl = 0\n",
    "wavelength = wavelengths[wl]\n",
    "Vi = lattice.Vi(wavelength, theta, phi)\n",
    "#mask = on_shell(eig_w[wl], tol=1e+10)\n",
    "#VV = eig_w[wl][mask]\n",
    "#P = eig_v[wl][:, mask]\n",
    "#PP = P\n",
    "PP = the_vec\n",
    "print(PP.shape, Vi.shape)\n",
    "resolution =(300,300)\n",
    "\n",
    "num_modes = min(PP.shape[1], 6)\n",
    "fig, axs = plt.subplots(1, num_modes, figsize=(24,12))\n",
    "kx, ky = lattice.kp(wavelength, theta, phi)\n",
    "from itertools import product\n",
    "from numpy import matlib as ml\n",
    "from bast.tools import mu0, c\n",
    "ng = pw[0]*pw[1]\n",
    "for i in range(num_modes):\n",
    "    P = PP[:,i]\n",
    "    P = Vi @ P\n",
    "    Exg, Eyg, Hxg, Hyg = np.split(P, 4)\n",
    "    ng = Exg.shape[0]\n",
    "    mulx = 1\n",
    "    muly = 1\n",
    "    vx = np.linspace(-mulx*a, muly*a, resolution[0])\n",
    "    vy = np.linspace(-mulx*a, muly*a, resolution[1])\n",
    "    ux = kx + lattice.gx.T.flatten()\n",
    "    uy = ky + lattice.gy.T.flatten()\n",
    "    xy = np.asarray(list(product(vx, vy))).reshape(*resolution, 2)\n",
    "    uxy_x = np.outer(ux, xy[:,:,0]).reshape(ng, *resolution)\n",
    "    uxy_y = np.outer(uy, xy[:,:,1]).reshape(ng, *resolution)\n",
    "    fxy = np.exp(1j*(uxy_x+uxy_y))\n",
    "    Ex = np.sum(Exg.reshape(ng, 1, 1) * fxy, axis=0)\n",
    "    Ey = np.sum(Eyg.reshape(ng, 1, 1) * fxy, axis=0)\n",
    "    Hx = np.sum(Hxg.reshape(ng, 1, 1) * fxy, axis=0)\n",
    "    Hy = np.sum(Hyg.reshape(ng, 1, 1) * fxy, axis=0)\n",
    "    #axs[i].set_title(f\"{round(VVV.real, 3), round(VVV.imag, 3)}\")\n",
    "    axs[i].matshow(ml.repmat((np.real(Ey)).reshape(resolution), 1, 1), cmap=\"RdBu\")\n",
    "    #axs[i].matshow(np.load(\"im1.npy\"), alpha=0.5)\n",
    "plt.savefig(\"Eigenmodes.png\")\n"
   ]
  },
  {
   "cell_type": "code",
   "execution_count": null,
   "metadata": {},
   "outputs": [],
   "source": [
    "fig, (ax1,ax2) = plt.subplots(1, 2, figsize=(24,12))\n",
    "ax1.matshow(ml.repmat(np.load(\"im1.npy\"), 2, 2), extent=[-1,1, -1, 1],alpha=0.5)\n",
    "ax1.matshow(ml.repmat(np.load(\"im2.npy\"), 2, 2), extent=[-1,1, -1, 1], alpha=0.5)\n",
    "ax2.matshow(ml.repmat((np.abs(Ey*Hx+Ey*Hy)).reshape(resolution), 1, 1), extent=[-1,1, -1, 1], cmap=\"RdBu\", alpha=0.9)\n"
   ]
  },
  {
   "cell_type": "code",
   "execution_count": null,
   "metadata": {},
   "outputs": [],
   "source": [
    "from bast.fourier import transform_disc, transform_rectangle\n",
    "import matplotlib.pyplot as plt\n",
    "aa = transform_disc(0.5*a,0.5*a, 0.2*a, lattice.Gx, lattice.Gy, lattice.area)\n",
    "bb = transform_rectangle(0.5*a,0.0*a, a, a, lattice.Gx, lattice.Gy, lattice.area)\n",
    "\n",
    "plt.matshow(np.abs(aa))\n",
    "plt.matshow(np.abs(np.fft.ifft2(bb)))\n",
    "print(np.max(np.abs(np.fft.ifft2(bb))) *  12 * 12)"
   ]
  },
  {
   "cell_type": "code",
   "execution_count": null,
   "metadata": {},
   "outputs": [],
   "source": [
    "bb = transform_disc(0.5*a,0.5*a, 0.3*a, lattice.Gx, lattice.Gy, lattice.area)\n",
    "from math import prod\n",
    "plt.matshow(np.abs(np.fft.ifft2(bb)))\n",
    "np.max(np.real(np.fft.ifft2(bb)))*prod(bb.shape)\n"
   ]
  },
  {
   "cell_type": "code",
   "execution_count": null,
   "metadata": {},
   "outputs": [],
   "source": [
    "bb"
   ]
  },
  {
   "cell_type": "code",
   "execution_count": null,
   "metadata": {},
   "outputs": [],
   "source": []
  },
  {
   "cell_type": "code",
   "execution_count": null,
   "metadata": {},
   "outputs": [],
   "source": [
    "plt.pcolor(np.abs(lattice.Gy))\n",
    "np.abs(lattice.Gy).max()"
   ]
  },
  {
   "cell_type": "code",
   "execution_count": null,
   "metadata": {},
   "outputs": [],
   "source": [
    "a = np.random.rand(10, 20, 30)\n",
    "b = np.linspace(0, 3, 20) < 1.5\n",
    "a[:, b, :].shape \n",
    "a = 1e-7"
   ]
  },
  {
   "cell_type": "code",
   "execution_count": null,
   "metadata": {},
   "outputs": [],
   "source": [
    "real = np.ones((12,12))\n",
    "fft = np.fft.fftshift(np.fft.fft2(real))  / 12 / 12\n",
    "fft2 = transform_rectangle(0.0*a,0.0*a, a, a, lattice.Gx, lattice.Gy, lattice.area)\n",
    "plt.matshow(np.abs(fft))\n",
    "plt.matshow(np.abs(fft2))\n",
    "print(fft)\n",
    "print(fft2)"
   ]
  },
  {
   "cell_type": "code",
   "execution_count": null,
   "metadata": {},
   "outputs": [],
   "source": []
  },
  {
   "cell_type": "code",
   "execution_count": null,
   "metadata": {},
   "outputs": [],
   "source": []
  }
 ],
 "metadata": {
  "interpreter": {
   "hash": "b9223f628c375eefcf89c47fd2c0f9db6c6114751250f7eceb19c1b31fd8457f"
  },
  "kernelspec": {
   "display_name": "Python 3 (ipykernel)",
   "language": "python",
   "name": "python3"
  },
  "language_info": {
   "codemirror_mode": {
    "name": "ipython",
    "version": 3
   },
   "file_extension": ".py",
   "mimetype": "text/x-python",
   "name": "python",
   "nbconvert_exporter": "python",
   "pygments_lexer": "ipython3",
   "version": "3.10.2"
  }
 },
 "nbformat": 4,
 "nbformat_minor": 4
}
