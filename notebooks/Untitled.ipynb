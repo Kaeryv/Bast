{
 "cells": [
  {
   "cell_type": "code",
   "execution_count": 14,
   "id": "79625d1a-abbb-40f6-888f-2d3f11a76b18",
   "metadata": {},
   "outputs": [],
   "source": [
    "import sys\n",
    "sys.path.append('..')\n",
    "from bast.tools import nanometers\n",
    "from bast.matrices import matrix_s, multS\n",
    "from bast.lattice import CartesianLattice\n",
    "from bast.scattering import scattering_matrix\n",
    "from bast.eigentricks import scattering_splitlr\n",
    "from tqdm import tqdm\n",
    "import numpy as np\n",
    "from math import prod\n",
    "from itertools import product\n",
    "import scipy\n",
    "\n",
    "pw=(2, 2)\n",
    "nx, ny = pw[0] // 2, pw[1] // 2\n",
    "a  = nanometers(100)\n",
    "lattice = CartesianLattice(pw, a1=(a/2, 0.0), a2=(0.0, a/2), eps_emerg=1.0)\n",
    "N = 50\n",
    "M = 50\n",
    "wavelengths = 1 / np.linspace(1./nanometers(10000), 1./nanometers(100), N)\n",
    "kplanar = np.linspace(0.0, np.pi / a, M)"
   ]
  },
  {
   "cell_type": "code",
   "execution_count": 30,
   "id": "6dd6c3fb-eeaf-4542-9990-04e9591d0053",
   "metadata": {},
   "outputs": [
    {
     "name": "stderr",
     "output_type": "stream",
     "text": [
      "100%|███████████████████████████████████████████| 2500/2500 [00:24<00:00, 100.68it/s]\n"
     ]
    }
   ],
   "source": [
    "Ss = []\n",
    "for wl, ky in tqdm(list(product(wavelengths, kplanar))):\n",
    "    kp = (0, ky)\n",
    "    U, Vi = lattice.U(wl, kp), lattice.Vi(wl, kp)\n",
    "    Ve = lattice.Ve(wl, kp)\n",
    "    S0, bf = scattering_matrix(pw, lattice, \"rectangle\", [0, 0, a,a], island_eps=13.0, eps_host=13.0, wavelength=wl, depth=0.5*a, slicing_pow=2, kp=kp)\n",
    "    S1, bf = scattering_matrix(pw, lattice, \"rectangle\", [0, 0, a,a], island_eps=1.0, eps_host=1.0, wavelength=wl, depth=0.5*a, slicing_pow=2, kp=kp)\n",
    "    S = multS(S0, S1)\n",
    "    Ss.append((S, wl, ky))"
   ]
  },
  {
   "cell_type": "code",
   "execution_count": 91,
   "id": "bf2691b1-dcbc-4d3d-b0b4-ee058c982d9a",
   "metadata": {},
   "outputs": [],
   "source": [
    "points = []\n",
    "for S, wl, ky in Ss:\n",
    "    Sl, Sr = scattering_splitlr(S)\n",
    "    w = scipy.linalg.eigvals(Sl, Sr)\n",
    "    # On shell\n",
    "    mask = np.logical_not(np.abs(np.abs(w) - 1.0) < 1e-10)\n",
    "    w[mask] = np.nan\n",
    "    points.append((np.angle(w), np.ones(len(w)) * ky * a, a * np.ones(len(w)) / wl))\n",
    "points = np.asarray(points)\n",
    "import pickle\n",
    "pickle.dump(points, open(\"../data/bragg_diagram.pkl\", \"wb\"))\n"
   ]
  },
  {
   "cell_type": "code",
   "execution_count": 87,
   "id": "2252b2b9-aadb-48c3-9562-edd4d3a76861",
   "metadata": {},
   "outputs": [
    {
     "data": {
      "image/png": "[encoded data removed]",
      "text/plain": [
       "<Figure size 432x288 with 1 Axes>"
      ]
     },
     "metadata": {
      "needs_background": "light"
     },
     "output_type": "display_data"
    }
   ],
   "source": []
  },
  {
   "cell_type": "code",
   "execution_count": 85,
   "id": "924e8157-cfbb-4266-adb2-445fef643155",
   "metadata": {},
   "outputs": [
    {
     "ename": "IndexError",
     "evalue": "boolean index did not match indexed array along dimension 1; dimension is 3 but corresponding boolean dimension is 16",
     "output_type": "error",
     "traceback": [
      "\u001b[0;31m---------------------------------------------------------------------------\u001b[0m",
      "\u001b[0;31mIndexError\u001b[0m                                Traceback (most recent call last)",
      "\u001b[0;32m/tmp/ipykernel_20352/2951506930.py\u001b[0m in \u001b[0;36m<module>\u001b[0;34m\u001b[0m\n\u001b[0;32m----> 1\u001b[0;31m \u001b[0mplt\u001b[0m\u001b[0;34m.\u001b[0m\u001b[0mplot\u001b[0m\u001b[0;34m(\u001b[0m\u001b[0mpoints\u001b[0m\u001b[0;34m[\u001b[0m\u001b[0mmask\u001b[0m\u001b[0;34m,\u001b[0m \u001b[0;36m0\u001b[0m\u001b[0;34m]\u001b[0m\u001b[0;34m,\u001b[0m \u001b[0mpoints\u001b[0m\u001b[0;34m[\u001b[0m\u001b[0mmask\u001b[0m\u001b[0;34m,\u001b[0m \u001b[0;36m1\u001b[0m\u001b[0;34m]\u001b[0m\u001b[0;34m,\u001b[0m \u001b[0;34m'r.'\u001b[0m\u001b[0;34m)\u001b[0m\u001b[0;34m\u001b[0m\u001b[0;34m\u001b[0m\u001b[0m\n\u001b[0m",
      "\u001b[0;31mIndexError\u001b[0m: boolean index did not match indexed array along dimension 1; dimension is 3 but corresponding boolean dimension is 16"
     ]
    }
   ],
   "source": [
    "plt.plot(points[mask, 0], points[mask, 1], 'r.')\n"
   ]
  },
  {
   "cell_type": "code",
   "execution_count": 81,
   "id": "313cf340-7e09-40f4-8897-a4b8d7f4178e",
   "metadata": {},
   "outputs": [
    {
     "data": {
      "text/plain": [
       "(2500, 16)"
      ]
     },
     "execution_count": 81,
     "metadata": {},
     "output_type": "execute_result"
    }
   ],
   "source": [
    "mask.shape"
   ]
  },
  {
   "cell_type": "code",
   "execution_count": null,
   "id": "49f62c1c-0d76-41fe-b089-c3e7723c03cc",
   "metadata": {},
   "outputs": [
    {
     "data": {
      "text/plain": [
       "(2500, 16)"
      ]
     },
     "execution_count": 82,
     "metadata": {},
     "output_type": "execute_result"
    }
   ],
   "source": [
    "points[:,0]"
   ]
  }
 ],
 "metadata": {
  "kernelspec": {
   "display_name": "Python 3 (ipykernel)",
   "language": "python",
   "name": "python3"
  },
  "language_info": {
   "codemirror_mode": {
    "name": "ipython",
    "version": 3
   },
   "file_extension": ".py",
   "mimetype": "text/x-python",
   "name": "python",
   "nbconvert_exporter": "python",
   "pygments_lexer": "ipython3",
   "version": "3.10.2"
  }
 },
 "nbformat": 4,
 "nbformat_minor": 5
}
