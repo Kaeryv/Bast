{
 "cells": [
  {
   "cell_type": "code",
   "execution_count": 1,
   "id": "c5d4a242-6d95-4e64-bdb6-14c78abf86f5",
   "metadata": {},
   "outputs": [],
   "source": [
    "import sys\n",
    "sys.path.append('..')\n",
    "from bast.tools import incident, compute_currents, nanometers\n",
    "from bast.matrices import matrix_s, multS\n",
    "from bast.lattice import CartesianLattice\n",
    "import numpy as np\n",
    "from math import prod\n",
    "import scipy\n",
    "\n",
    "pw=(2, 2)\n",
    "nx, ny = pw[0] // 2, pw[1] // 2\n",
    "a  = nanometers(100)\n",
    "lattice = CartesianLattice(pw, a1=(a/2, 0.0), a2=(0.0, a/2), eps_emerg=1.0)\n",
    "N = 70\n",
    "wavelengths = 1 / np.linspace(1./nanometers(10000), 1./nanometers(100), N)\n",
    "theta = 0\n",
    "phi = 0"
   ]
  },
  {
   "cell_type": "code",
   "execution_count": 6,
   "id": "da91e89b-8a34-4511-85c3-add6e377aa98",
   "metadata": {},
   "outputs": [
    {
     "name": "stderr",
     "output_type": "stream",
     "text": [
      "100%|███████████████████████████████████████████████| 70/70 [00:00<00:00, 128.46it/s]\n"
     ]
    }
   ],
   "source": [
    "from bast.scattering import scattering_matrix,scattering_matrix_npy\n",
    "from tqdm import tqdm\n",
    "\n",
    "spectrum = []\n",
    "scatmats = []\n",
    "truets = []\n",
    "for i, wavelength in enumerate(tqdm(wavelengths)):\n",
    "    kp = lattice.kp_angle(wavelength, theta, phi)\n",
    "    kp = (0, 2 * np.pi / a/2)\n",
    "    U, Vi = lattice.U(wavelength, kp), lattice.Vi(wavelength, kp)\n",
    "    Ve = lattice.Ve(wavelength, kp)\n",
    "    S0, bf = scattering_matrix(pw, lattice, \"rectangle\", [0, 0, a,a], island_eps=13.0, eps_host=13.0, wavelength=wavelength, depth=0.5*a, slicing_pow=2, kp=kp)\n",
    "    S1, bf = scattering_matrix(pw, lattice, \"rectangle\", [0, 0, a,a], island_eps=1.0, eps_host=1.0, wavelength=wavelength, depth=0.5*a, slicing_pow=2, kp=kp)\n",
    "    S = multS(S0, S1)\n",
    "    \n",
    "    scatmats.append(S.copy())\n",
    "\n",
    "    "
   ]
  },
  {
   "cell_type": "code",
   "execution_count": 7,
   "id": "1eb61bca-5bcc-4c14-9834-44085d2d5965",
   "metadata": {},
   "outputs": [
    {
     "name": "stderr",
     "output_type": "stream",
     "text": [
      "100%|███████████████████████████████████████████████| 70/70 [00:00<00:00, 659.50it/s]\n"
     ]
    },
    {
     "data": {
      "image/png": "[encoded data removed]",
      "text/plain": [
       "<Figure size 432x288 with 1 Axes>"
      ]
     },
     "metadata": {
      "needs_background": "light"
     },
     "output_type": "display_data"
    }
   ],
   "source": [
    "from bast.eigentricks import scattering_splitlr\n",
    "\n",
    "import matplotlib.pyplot as plt\n",
    "for S, wl in zip(tqdm(scatmats), wavelengths):\n",
    "    Sl, Sr = scattering_splitlr(S)\n",
    "    w, v = scipy.linalg.eig(Sl, Sr)\n",
    "    mask = np.abs(np.abs(w) - 1.0) < 1e-10\n",
    "    #plt.plot(np.angle(w[mask]), a/np.ones(w[mask].shape[0]) / wl, 'r.')    \n",
    "    plt.plot(np.angle(w[mask])/2/np.pi, a/(np.ones(w[mask].shape[0])*wl), 'r.')"
   ]
  },
  {
   "cell_type": "code",
   "execution_count": 42,
   "id": "cf46035f-8f4b-4b94-9e13-257b3539f9e8",
   "metadata": {},
   "outputs": [
    {
     "data": {
      "text/plain": [
       "<matplotlib.image.AxesImage at 0x7f191065db70>"
      ]
     },
     "execution_count": 42,
     "metadata": {},
     "output_type": "execute_result"
    },
    {
     "data": {
      "image/png": "[encoded data removed]",
      "text/plain": [
       "<Figure size 288x432 with 1 Axes>"
      ]
     },
     "metadata": {
      "needs_background": "light"
     },
     "output_type": "display_data"
    }
   ],
   "source": [
    "from bast.eigentricks import scattering_splitlr\n",
    "import matplotlib.pyplot as plt\n",
    "detP = np.zeros((150, 100), dtype=np.complex128)\n",
    "for i, (S, wl) in enumerate(zip(scatmats, wavelengths)):\n",
    "    Sl, Sr = scattering_splitlr(S)\n",
    "    \n",
    "    for j, kz in enumerate(np.linspace(0, np.pi, 100)):\n",
    "        kx = 0.0\n",
    "        ky = 0.0\n",
    "        P = Sl - np.exp(1j*kz) * Sr\n",
    "        detP[i, j] = np.linalg.det(P)\n",
    "        \n",
    "plt.matshow(np.log1p(np.flipud(np.abs(detP))))"
   ]
  },
  {
   "cell_type": "code",
   "execution_count": null,
   "id": "657aca9a-8e31-495e-bda2-fccfd7839038",
   "metadata": {},
   "outputs": [],
   "source": []
  }
 ],
 "metadata": {
  "kernelspec": {
   "display_name": "Python 3 (ipykernel)",
   "language": "python",
   "name": "python3"
  },
  "language_info": {
   "codemirror_mode": {
    "name": "ipython",
    "version": 3
   },
   "file_extension": ".py",
   "mimetype": "text/x-python",
   "name": "python",
   "nbconvert_exporter": "python",
   "pygments_lexer": "ipython3",
   "version": "3.10.2"
  }
 },
 "nbformat": 4,
 "nbformat_minor": 5
}
